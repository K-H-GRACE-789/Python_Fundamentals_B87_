{
 "cells": [
  {
   "cell_type": "code",
   "execution_count": null,
   "id": "5d35c4ee-a3f5-47ed-b28e-83d986b436e8",
   "metadata": {},
   "outputs": [],
   "source": [
    "Intoduction to variables"
   ]
  },
  {
   "cell_type": "code",
   "execution_count": null,
   "id": "8fb24781-03e2-448c-8c99-925dcc080b56",
   "metadata": {},
   "outputs": [],
   "source": [
    "RULE:\n",
    "1.NO NAMESPACES\n",
    "2.NO NUMBERS\n",
    "3.NO SPL CHAR"
   ]
  },
  {
   "cell_type": "code",
   "execution_count": 5,
   "id": "813209da-823e-4196-a07d-05f115dd5434",
   "metadata": {},
   "outputs": [
    {
     "name": "stdout",
     "output_type": "stream",
     "text": [
      "567\n"
     ]
    }
   ],
   "source": [
    "x=45\n",
    "y=522\n",
    "z=x+y\n",
    "print(z)"
   ]
  },
  {
   "cell_type": "code",
   "execution_count": 9,
   "id": "2a7972d2-726c-43a9-b8fd-dff1e8eec574",
   "metadata": {},
   "outputs": [
    {
     "ename": "SyntaxError",
     "evalue": "invalid syntax (4273366804.py, line 1)",
     "output_type": "error",
     "traceback": [
      "\u001b[1;36m  Cell \u001b[1;32mIn[9], line 1\u001b[1;36m\u001b[0m\n\u001b[1;33m    first name='Joshua'\u001b[0m\n\u001b[1;37m          ^\u001b[0m\n\u001b[1;31mSyntaxError\u001b[0m\u001b[1;31m:\u001b[0m invalid syntax\n"
     ]
    }
   ],
   "source": [
    "#first rule\n",
    "first name='Joshua'\n",
    "print(first name)"
   ]
  },
  {
   "cell_type": "code",
   "execution_count": 11,
   "id": "4bb6ad79-8088-4445-9c48-569d7f4b4a53",
   "metadata": {},
   "outputs": [
    {
     "name": "stdout",
     "output_type": "stream",
     "text": [
      "joshua\n"
     ]
    }
   ],
   "source": [
    "first_name='joshua'\n",
    "print(first_name)"
   ]
  },
  {
   "cell_type": "code",
   "execution_count": 13,
   "id": "07e9bb25-2f62-4ef3-ae0a-0db80e1ed965",
   "metadata": {},
   "outputs": [
    {
     "name": "stdout",
     "output_type": "stream",
     "text": [
      "sharon\n"
     ]
    }
   ],
   "source": [
    "firstname='sharon'\n",
    "print(firstname)"
   ]
  },
  {
   "cell_type": "code",
   "execution_count": 15,
   "id": "b64a2329-aa42-4a19-bb43-c3f28bd864e2",
   "metadata": {},
   "outputs": [
    {
     "ename": "SyntaxError",
     "evalue": "invalid decimal literal (2604284610.py, line 1)",
     "output_type": "error",
     "traceback": [
      "\u001b[1;36m  Cell \u001b[1;32mIn[15], line 1\u001b[1;36m\u001b[0m\n\u001b[1;33m    1name='one'\u001b[0m\n\u001b[1;37m    ^\u001b[0m\n\u001b[1;31mSyntaxError\u001b[0m\u001b[1;31m:\u001b[0m invalid decimal literal\n"
     ]
    }
   ],
   "source": [
    "#second rule \n",
    "1name='one'\n",
    "print(1one)"
   ]
  },
  {
   "cell_type": "code",
   "execution_count": 17,
   "id": "fa3036d8-51b3-4de5-97c9-1f9ad8c255da",
   "metadata": {},
   "outputs": [
    {
     "name": "stdout",
     "output_type": "stream",
     "text": [
      "one\n"
     ]
    }
   ],
   "source": [
    "name1='one'\n",
    "print(name1)"
   ]
  },
  {
   "cell_type": "code",
   "execution_count": 21,
   "id": "ca3bb5c7-42d4-477a-870d-b81cef2ba68d",
   "metadata": {},
   "outputs": [
    {
     "name": "stdout",
     "output_type": "stream",
     "text": [
      "two\n"
     ]
    }
   ],
   "source": [
    "nam2e1='two'\n",
    "print(nam2e1)"
   ]
  },
  {
   "cell_type": "code",
   "execution_count": 23,
   "id": "2acfdf54-71bb-4b71-9cf8-100858868ac1",
   "metadata": {},
   "outputs": [
    {
     "ename": "SyntaxError",
     "evalue": "invalid syntax. Maybe you meant '==' or ':=' instead of '='? (2703361964.py, line 2)",
     "output_type": "error",
     "traceback": [
      "\u001b[1;36m  Cell \u001b[1;32mIn[23], line 2\u001b[1;36m\u001b[0m\n\u001b[1;33m    @email='hi@gmail.com'\u001b[0m\n\u001b[1;37m     ^\u001b[0m\n\u001b[1;31mSyntaxError\u001b[0m\u001b[1;31m:\u001b[0m invalid syntax. Maybe you meant '==' or ':=' instead of '='?\n"
     ]
    }
   ],
   "source": [
    "#third rule\n",
    "@email='hi@gmail.com'\n",
    "print(@email)"
   ]
  },
  {
   "cell_type": "code",
   "execution_count": 25,
   "id": "0c999615-1836-48a3-9a4e-a8a80d270253",
   "metadata": {},
   "outputs": [
    {
     "ename": "SyntaxError",
     "evalue": "invalid syntax (351673196.py, line 1)",
     "output_type": "error",
     "traceback": [
      "\u001b[1;36m  Cell \u001b[1;32mIn[25], line 1\u001b[1;36m\u001b[0m\n\u001b[1;33m    dollar$='Rs.83.61'\u001b[0m\n\u001b[1;37m          ^\u001b[0m\n\u001b[1;31mSyntaxError\u001b[0m\u001b[1;31m:\u001b[0m invalid syntax\n"
     ]
    }
   ],
   "source": [
    "dollar$='Rs.83.61'\n",
    "print(dollar$)"
   ]
  },
  {
   "cell_type": "code",
   "execution_count": 28,
   "id": "f4dfc52c-5c37-4817-a0ff-0964ea37c9c2",
   "metadata": {},
   "outputs": [
    {
     "ename": "NameError",
     "evalue": "name 'name' is not defined",
     "output_type": "error",
     "traceback": [
      "\u001b[1;31m---------------------------------------------------------------------------\u001b[0m",
      "\u001b[1;31mNameError\u001b[0m                                 Traceback (most recent call last)",
      "Cell \u001b[1;32mIn[28], line 1\u001b[0m\n\u001b[1;32m----> 1\u001b[0m name\u001b[38;5;241m@\u001b[39m\u001b[38;5;241m=\u001b[39m\u001b[38;5;124m'\u001b[39m\u001b[38;5;124mfox\u001b[39m\u001b[38;5;124m'\u001b[39m\n",
      "\u001b[1;31mNameError\u001b[0m: name 'name' is not defined"
     ]
    }
   ],
   "source": [
    "name@='fox'"
   ]
  },
  {
   "cell_type": "code",
   "execution_count": null,
   "id": "a870902b-aa7b-4c2b-b40e-5596f3fdc766",
   "metadata": {},
   "outputs": [],
   "source": [
    "Data Types\n",
    "STRING==>str\n",
    "Number==>INTEGER==>int,FLOATING POINT==>float\n",
    "LIST=>list\n",
    "TUPLE=>tuple\n",
    "DICTIONARIES=>dict\n",
    "\n",
    "DATATYPES ARE OF 2 TYPES\n",
    "1.MUTABLE\n",
    "2.IMMUTABLE"
   ]
  },
  {
   "cell_type": "code",
   "execution_count": 32,
   "id": "e703e369-775b-4701-9d1c-fcb987e601df",
   "metadata": {},
   "outputs": [
    {
     "name": "stdout",
     "output_type": "stream",
     "text": [
      "haritha\n"
     ]
    }
   ],
   "source": [
    "#STRING\n",
    "name='haritha'#single quotes\n",
    "print(name)"
   ]
  },
  {
   "cell_type": "code",
   "execution_count": 36,
   "id": "cc98e9e9-ffc8-4a22-8f04-b1578d83cc68",
   "metadata": {},
   "outputs": [
    {
     "name": "stdout",
     "output_type": "stream",
     "text": [
      "tarun\n"
     ]
    }
   ],
   "source": [
    "he=\"tarun\"#double quotes\n",
    "print(he)"
   ]
  },
  {
   "cell_type": "code",
   "execution_count": 40,
   "id": "aceaf65b-cece-4986-8a4a-9dcc4f3bbc2d",
   "metadata": {},
   "outputs": [
    {
     "name": "stdout",
     "output_type": "stream",
     "text": [
      "shaik faiyaz\n"
     ]
    }
   ],
   "source": [
    "#string methods\n",
    "sir='shaik faiyaz'\n",
    "print(sir)"
   ]
  },
  {
   "cell_type": "code",
   "execution_count": null,
   "id": "d5491b3e-9f21-4e7f-ac79-2b9d1c8dfa37",
   "metadata": {},
   "outputs": [],
   "source": [
    "#req:verify and validate datatype...?\n",
    "type() method"
   ]
  },
  {
   "cell_type": "code",
   "execution_count": 42,
   "id": "6f3b40ec-3ee8-41da-9310-c5b209b6db3a",
   "metadata": {},
   "outputs": [
    {
     "data": {
      "text/plain": [
       "str"
      ]
     },
     "execution_count": 42,
     "metadata": {},
     "output_type": "execute_result"
    }
   ],
   "source": [
    "type(sir)"
   ]
  },
  {
   "cell_type": "code",
   "execution_count": 44,
   "id": "538883a6-4f0b-4d82-a407-d46df2c9b56b",
   "metadata": {},
   "outputs": [],
   "source": [
    "#req:i want the name in crct format--first letter in caps...\n",
    "title() method"
   ]
  },
  {
   "cell_type": "code",
   "execution_count": 46,
   "id": "e769873b-4899-48fe-9838-9c41bd123845",
   "metadata": {},
   "outputs": [
    {
     "name": "stdout",
     "output_type": "stream",
     "text": [
      "Shaik Faiyaz\n"
     ]
    }
   ],
   "source": [
    "print(sir.title())"
   ]
  },
  {
   "cell_type": "code",
   "execution_count": 48,
   "id": "713bc249-9ae9-4ea7-956a-12f74bb4adf7",
   "metadata": {},
   "outputs": [
    {
     "name": "stdout",
     "output_type": "stream",
     "text": [
      "daniel\n"
     ]
    }
   ],
   "source": [
    "name='daniel'\n",
    "print(name)"
   ]
  },
  {
   "cell_type": "code",
   "execution_count": 50,
   "id": "233ebdcb-9a58-4728-a007-d22e3e0d5ce9",
   "metadata": {},
   "outputs": [
    {
     "name": "stdout",
     "output_type": "stream",
     "text": [
      "Daniel\n"
     ]
    }
   ],
   "source": [
    "print(name.title())"
   ]
  },
  {
   "cell_type": "code",
   "execution_count": 54,
   "id": "b96c73b8-d3fb-496c-8ab5-78d61e35cac4",
   "metadata": {},
   "outputs": [
    {
     "name": "stdout",
     "output_type": "stream",
     "text": [
      "sireesha\n"
     ]
    }
   ],
   "source": [
    "mname='sireesha'\n",
    "print(mname)"
   ]
  },
  {
   "cell_type": "code",
   "execution_count": 56,
   "id": "b06d9fbd-a8ad-4548-9c4b-dae47b58c9e0",
   "metadata": {},
   "outputs": [
    {
     "name": "stdout",
     "output_type": "stream",
     "text": [
      "Sireesha\n"
     ]
    }
   ],
   "source": [
    "print(mname.title())"
   ]
  },
  {
   "cell_type": "code",
   "execution_count": 58,
   "id": "64f6d3b2-cebf-412b-bc02-7911853f8178",
   "metadata": {},
   "outputs": [],
   "source": [
    "#req:i want text completely in capital letters...\n",
    "upper()"
   ]
  },
  {
   "cell_type": "code",
   "execution_count": 60,
   "id": "fc3dfda6-c5f6-4537-92b0-b792b0ced204",
   "metadata": {},
   "outputs": [
    {
     "name": "stdout",
     "output_type": "stream",
     "text": [
      "SHAIK FAIYAZ\n"
     ]
    }
   ],
   "source": [
    "print(sir.upper())"
   ]
  },
  {
   "cell_type": "code",
   "execution_count": 62,
   "id": "a58c61be-f686-45ee-9c7f-71859f4c83c5",
   "metadata": {},
   "outputs": [
    {
     "name": "stdout",
     "output_type": "stream",
     "text": [
      "DANIEL\n"
     ]
    }
   ],
   "source": [
    "print(name.upper())"
   ]
  },
  {
   "cell_type": "code",
   "execution_count": 64,
   "id": "ee2d2b23-6002-4443-b4fb-2e63d5e7c9a7",
   "metadata": {},
   "outputs": [
    {
     "name": "stdout",
     "output_type": "stream",
     "text": [
      "SIREESHA\n"
     ]
    }
   ],
   "source": [
    "print(mname.upper())"
   ]
  },
  {
   "cell_type": "code",
   "execution_count": 66,
   "id": "134be5a1-34ba-46f2-b5c8-86fb0a0cb45b",
   "metadata": {},
   "outputs": [],
   "source": [
    "#req:i want text completely in smallcase letters\n",
    "lower()"
   ]
  },
  {
   "cell_type": "code",
   "execution_count": 70,
   "id": "80b8ccf9-c1f1-48b5-aa73-f9a51d2ca0a1",
   "metadata": {},
   "outputs": [
    {
     "name": "stdout",
     "output_type": "stream",
     "text": [
      "shaik faiyaz\n"
     ]
    }
   ],
   "source": [
    "print(sir.lower())"
   ]
  },
  {
   "cell_type": "code",
   "execution_count": 72,
   "id": "56d32b45-fa11-4687-b6ab-b342234b6d9d",
   "metadata": {},
   "outputs": [
    {
     "name": "stdout",
     "output_type": "stream",
     "text": [
      "daniel\n"
     ]
    }
   ],
   "source": [
    "print(name.lower())"
   ]
  },
  {
   "cell_type": "code",
   "execution_count": 74,
   "id": "d09a313c-6fe7-4bd9-b908-c80a84ad9c47",
   "metadata": {},
   "outputs": [
    {
     "name": "stdout",
     "output_type": "stream",
     "text": [
      "sireesha\n"
     ]
    }
   ],
   "source": [
    "print(mname.lower())"
   ]
  },
  {
   "cell_type": "code",
   "execution_count": null,
   "id": "96241b5a-fdfb-483c-ba82-c040208e6827",
   "metadata": {},
   "outputs": [],
   "source": []
  }
 ],
 "metadata": {
  "kernelspec": {
   "display_name": "Python 3 (ipykernel)",
   "language": "python",
   "name": "python3"
  },
  "language_info": {
   "codemirror_mode": {
    "name": "ipython",
    "version": 3
   },
   "file_extension": ".py",
   "mimetype": "text/x-python",
   "name": "python",
   "nbconvert_exporter": "python",
   "pygments_lexer": "ipython3",
   "version": "3.12.4"
  }
 },
 "nbformat": 4,
 "nbformat_minor": 5
}
